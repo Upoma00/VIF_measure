{
  "nbformat": 4,
  "nbformat_minor": 0,
  "metadata": {
    "colab": {
      "provenance": []
    },
    "kernelspec": {
      "name": "python3",
      "display_name": "Python 3"
    },
    "language_info": {
      "name": "python"
    }
  },
  "cells": [
    {
      "cell_type": "code",
      "execution_count": 49,
      "metadata": {
        "id": "DGwiwHezIr_z"
      },
      "outputs": [],
      "source": [
        "import warnings\n",
        "warnings.filterwarnings('ignore')"
      ]
    },
    {
      "cell_type": "code",
      "source": [
        "import sys\n",
        "!{sys.executable} -m pip install scikit-learn-intelex"
      ],
      "metadata": {
        "colab": {
          "base_uri": "https://localhost:8080/"
        },
        "id": "zdFpl6DVLaxC",
        "outputId": "9be43e12-fce4-4271-f394-14ef7b1da677"
      },
      "execution_count": 50,
      "outputs": [
        {
          "output_type": "stream",
          "name": "stdout",
          "text": [
            "Requirement already satisfied: scikit-learn-intelex in /usr/local/lib/python3.10/dist-packages (2024.1.0)\n",
            "Requirement already satisfied: daal4py==2024.1.0 in /usr/local/lib/python3.10/dist-packages (from scikit-learn-intelex) (2024.1.0)\n",
            "Requirement already satisfied: scikit-learn>=0.22 in /usr/local/lib/python3.10/dist-packages (from scikit-learn-intelex) (1.2.2)\n",
            "Requirement already satisfied: daal==2024.1.0 in /usr/local/lib/python3.10/dist-packages (from daal4py==2024.1.0->scikit-learn-intelex) (2024.1.0)\n",
            "Requirement already satisfied: numpy>=1.19 in /usr/local/lib/python3.10/dist-packages (from daal4py==2024.1.0->scikit-learn-intelex) (1.25.2)\n",
            "Requirement already satisfied: tbb==2021.* in /usr/local/lib/python3.10/dist-packages (from daal==2024.1.0->daal4py==2024.1.0->scikit-learn-intelex) (2021.11.0)\n",
            "Requirement already satisfied: scipy>=1.3.2 in /usr/local/lib/python3.10/dist-packages (from scikit-learn>=0.22->scikit-learn-intelex) (1.11.4)\n",
            "Requirement already satisfied: joblib>=1.1.1 in /usr/local/lib/python3.10/dist-packages (from scikit-learn>=0.22->scikit-learn-intelex) (1.3.2)\n",
            "Requirement already satisfied: threadpoolctl>=2.0.0 in /usr/local/lib/python3.10/dist-packages (from scikit-learn>=0.22->scikit-learn-intelex) (3.3.0)\n"
          ]
        }
      ]
    },
    {
      "cell_type": "code",
      "source": [
        "import sys\n",
        "!{sys.executable} -m pip install statsmodels"
      ],
      "metadata": {
        "colab": {
          "base_uri": "https://localhost:8080/"
        },
        "id": "SbHI7aUBLeQI",
        "outputId": "69aa2e69-93ea-49ca-eb82-c0f036de5f4c"
      },
      "execution_count": 51,
      "outputs": [
        {
          "output_type": "stream",
          "name": "stdout",
          "text": [
            "Requirement already satisfied: statsmodels in /usr/local/lib/python3.10/dist-packages (0.14.1)\n",
            "Requirement already satisfied: numpy<2,>=1.18 in /usr/local/lib/python3.10/dist-packages (from statsmodels) (1.25.2)\n",
            "Requirement already satisfied: scipy!=1.9.2,>=1.4 in /usr/local/lib/python3.10/dist-packages (from statsmodels) (1.11.4)\n",
            "Requirement already satisfied: pandas!=2.1.0,>=1.0 in /usr/local/lib/python3.10/dist-packages (from statsmodels) (1.5.3)\n",
            "Requirement already satisfied: patsy>=0.5.4 in /usr/local/lib/python3.10/dist-packages (from statsmodels) (0.5.6)\n",
            "Requirement already satisfied: packaging>=21.3 in /usr/local/lib/python3.10/dist-packages (from statsmodels) (23.2)\n",
            "Requirement already satisfied: python-dateutil>=2.8.1 in /usr/local/lib/python3.10/dist-packages (from pandas!=2.1.0,>=1.0->statsmodels) (2.8.2)\n",
            "Requirement already satisfied: pytz>=2020.1 in /usr/local/lib/python3.10/dist-packages (from pandas!=2.1.0,>=1.0->statsmodels) (2023.4)\n",
            "Requirement already satisfied: six in /usr/local/lib/python3.10/dist-packages (from patsy>=0.5.4->statsmodels) (1.16.0)\n"
          ]
        }
      ]
    },
    {
      "cell_type": "code",
      "source": [
        "from sklearnex import patch_sklearn\n",
        "patch_sklearn(global_patch=True)"
      ],
      "metadata": {
        "colab": {
          "base_uri": "https://localhost:8080/"
        },
        "id": "F0AQuqqiLler",
        "outputId": "27792bb8-da40-4f64-de0f-8e28e040870c"
      },
      "execution_count": 52,
      "outputs": [
        {
          "output_type": "stream",
          "name": "stdout",
          "text": [
            "Scikit-learn was successfully globally patched by Intel(R) Extension for Scikit-learn\n"
          ]
        },
        {
          "output_type": "stream",
          "name": "stderr",
          "text": [
            "Intel(R) Extension for Scikit-learn* enabled (https://github.com/intel/scikit-learn-intelex)\n"
          ]
        }
      ]
    },
    {
      "cell_type": "code",
      "source": [
        " #import libraries\n",
        "import pandas as pd\n",
        "from sklearn.linear_model import LinearRegression"
      ],
      "metadata": {
        "id": "QJy7YgRQLqg_"
      },
      "execution_count": 53,
      "outputs": []
    },
    {
      "cell_type": "code",
      "source": [
        "#define a function to calculate VIF\n",
        "def vif(df):\n",
        "  #initialize an empty dataframe to store VIF values\n",
        "  vif_df = pd.DataFrame()\n",
        "  #get the names of the features\n",
        "  vif_df[\"feature\"] = df.columns\n",
        "  #loop through each feature and regress it against the others\n",
        "  vif_df[\"VIF\"] = [1 / (1 - LinearRegression(n_jobs=-1).fit(df.drop(feature, axis=1), df[feature]).score(df.drop(feature, axis=1), df[feature])) for feature in df.columns]\n",
        "  #return the VIF dataframe\n",
        "  return vif_df"
      ],
      "metadata": {
        "id": "BHXmc_RKLwkk"
      },
      "execution_count": 54,
      "outputs": []
    },
    {
      "cell_type": "code",
      "source": [
        "asteroid_data = pd.read_csv('https://dagshub.com/mirsakhawathossain/Asteroid_ML/raw/cceba246d6e1755c40511f7ccbabd1ac819f0515/Data/sbdb_query_results.csv',low_memory=False).sort_index(axis=0)"
      ],
      "metadata": {
        "id": "0rZtGhwhL1wB"
      },
      "execution_count": 55,
      "outputs": []
    },
    {
      "cell_type": "code",
      "source": [
        "asteroid_data.head(3)"
      ],
      "metadata": {
        "colab": {
          "base_uri": "https://localhost:8080/",
          "height": 143
        },
        "id": "w3PaAADyL5FP",
        "outputId": "8d10e7ec-5896-43a7-b546-5d00ca5d8997"
      },
      "execution_count": 56,
      "outputs": [
        {
          "output_type": "execute_result",
          "data": {
            "text/plain": [
              "                 full_name neo pha     H  diameter  albedo   rot_per       e  \\\n",
              "0        1 Ceres (A801 AA)   N   N  3.33   939.400   0.090  9.074170  0.0789   \n",
              "1       2 Pallas (A802 FA)   N   N  4.12   513.000   0.155  7.813221  0.2302   \n",
              "2         3 Juno (A804 RA)   N   N  5.16   246.596   0.214  7.210000  0.2562   \n",
              "\n",
              "       a      q      i      om       w     ma    ad       n     per  moid_ld  \\\n",
              "0  2.767  2.549  10.59   80.25   73.42  60.08  2.99  0.2141  1680.0    616.0   \n",
              "1  2.770  2.132  34.93  172.92  310.87  40.60  3.41  0.2138  1680.0    478.0   \n",
              "2  2.669  1.985  12.99  169.84  247.74  37.02  3.35  0.2260  1590.0    403.0   \n",
              "\n",
              "  class  \n",
              "0   MBA  \n",
              "1   MBA  \n",
              "2   MBA  "
            ],
            "text/html": [
              "\n",
              "  <div id=\"df-a640353c-e062-4dfd-a84b-b06c1f672a04\" class=\"colab-df-container\">\n",
              "    <div>\n",
              "<style scoped>\n",
              "    .dataframe tbody tr th:only-of-type {\n",
              "        vertical-align: middle;\n",
              "    }\n",
              "\n",
              "    .dataframe tbody tr th {\n",
              "        vertical-align: top;\n",
              "    }\n",
              "\n",
              "    .dataframe thead th {\n",
              "        text-align: right;\n",
              "    }\n",
              "</style>\n",
              "<table border=\"1\" class=\"dataframe\">\n",
              "  <thead>\n",
              "    <tr style=\"text-align: right;\">\n",
              "      <th></th>\n",
              "      <th>full_name</th>\n",
              "      <th>neo</th>\n",
              "      <th>pha</th>\n",
              "      <th>H</th>\n",
              "      <th>diameter</th>\n",
              "      <th>albedo</th>\n",
              "      <th>rot_per</th>\n",
              "      <th>e</th>\n",
              "      <th>a</th>\n",
              "      <th>q</th>\n",
              "      <th>i</th>\n",
              "      <th>om</th>\n",
              "      <th>w</th>\n",
              "      <th>ma</th>\n",
              "      <th>ad</th>\n",
              "      <th>n</th>\n",
              "      <th>per</th>\n",
              "      <th>moid_ld</th>\n",
              "      <th>class</th>\n",
              "    </tr>\n",
              "  </thead>\n",
              "  <tbody>\n",
              "    <tr>\n",
              "      <th>0</th>\n",
              "      <td>1 Ceres (A801 AA)</td>\n",
              "      <td>N</td>\n",
              "      <td>N</td>\n",
              "      <td>3.33</td>\n",
              "      <td>939.400</td>\n",
              "      <td>0.090</td>\n",
              "      <td>9.074170</td>\n",
              "      <td>0.0789</td>\n",
              "      <td>2.767</td>\n",
              "      <td>2.549</td>\n",
              "      <td>10.59</td>\n",
              "      <td>80.25</td>\n",
              "      <td>73.42</td>\n",
              "      <td>60.08</td>\n",
              "      <td>2.99</td>\n",
              "      <td>0.2141</td>\n",
              "      <td>1680.0</td>\n",
              "      <td>616.0</td>\n",
              "      <td>MBA</td>\n",
              "    </tr>\n",
              "    <tr>\n",
              "      <th>1</th>\n",
              "      <td>2 Pallas (A802 FA)</td>\n",
              "      <td>N</td>\n",
              "      <td>N</td>\n",
              "      <td>4.12</td>\n",
              "      <td>513.000</td>\n",
              "      <td>0.155</td>\n",
              "      <td>7.813221</td>\n",
              "      <td>0.2302</td>\n",
              "      <td>2.770</td>\n",
              "      <td>2.132</td>\n",
              "      <td>34.93</td>\n",
              "      <td>172.92</td>\n",
              "      <td>310.87</td>\n",
              "      <td>40.60</td>\n",
              "      <td>3.41</td>\n",
              "      <td>0.2138</td>\n",
              "      <td>1680.0</td>\n",
              "      <td>478.0</td>\n",
              "      <td>MBA</td>\n",
              "    </tr>\n",
              "    <tr>\n",
              "      <th>2</th>\n",
              "      <td>3 Juno (A804 RA)</td>\n",
              "      <td>N</td>\n",
              "      <td>N</td>\n",
              "      <td>5.16</td>\n",
              "      <td>246.596</td>\n",
              "      <td>0.214</td>\n",
              "      <td>7.210000</td>\n",
              "      <td>0.2562</td>\n",
              "      <td>2.669</td>\n",
              "      <td>1.985</td>\n",
              "      <td>12.99</td>\n",
              "      <td>169.84</td>\n",
              "      <td>247.74</td>\n",
              "      <td>37.02</td>\n",
              "      <td>3.35</td>\n",
              "      <td>0.2260</td>\n",
              "      <td>1590.0</td>\n",
              "      <td>403.0</td>\n",
              "      <td>MBA</td>\n",
              "    </tr>\n",
              "  </tbody>\n",
              "</table>\n",
              "</div>\n",
              "    <div class=\"colab-df-buttons\">\n",
              "\n",
              "  <div class=\"colab-df-container\">\n",
              "    <button class=\"colab-df-convert\" onclick=\"convertToInteractive('df-a640353c-e062-4dfd-a84b-b06c1f672a04')\"\n",
              "            title=\"Convert this dataframe to an interactive table.\"\n",
              "            style=\"display:none;\">\n",
              "\n",
              "  <svg xmlns=\"http://www.w3.org/2000/svg\" height=\"24px\" viewBox=\"0 -960 960 960\">\n",
              "    <path d=\"M120-120v-720h720v720H120Zm60-500h600v-160H180v160Zm220 220h160v-160H400v160Zm0 220h160v-160H400v160ZM180-400h160v-160H180v160Zm440 0h160v-160H620v160ZM180-180h160v-160H180v160Zm440 0h160v-160H620v160Z\"/>\n",
              "  </svg>\n",
              "    </button>\n",
              "\n",
              "  <style>\n",
              "    .colab-df-container {\n",
              "      display:flex;\n",
              "      gap: 12px;\n",
              "    }\n",
              "\n",
              "    .colab-df-convert {\n",
              "      background-color: #E8F0FE;\n",
              "      border: none;\n",
              "      border-radius: 50%;\n",
              "      cursor: pointer;\n",
              "      display: none;\n",
              "      fill: #1967D2;\n",
              "      height: 32px;\n",
              "      padding: 0 0 0 0;\n",
              "      width: 32px;\n",
              "    }\n",
              "\n",
              "    .colab-df-convert:hover {\n",
              "      background-color: #E2EBFA;\n",
              "      box-shadow: 0px 1px 2px rgba(60, 64, 67, 0.3), 0px 1px 3px 1px rgba(60, 64, 67, 0.15);\n",
              "      fill: #174EA6;\n",
              "    }\n",
              "\n",
              "    .colab-df-buttons div {\n",
              "      margin-bottom: 4px;\n",
              "    }\n",
              "\n",
              "    [theme=dark] .colab-df-convert {\n",
              "      background-color: #3B4455;\n",
              "      fill: #D2E3FC;\n",
              "    }\n",
              "\n",
              "    [theme=dark] .colab-df-convert:hover {\n",
              "      background-color: #434B5C;\n",
              "      box-shadow: 0px 1px 3px 1px rgba(0, 0, 0, 0.15);\n",
              "      filter: drop-shadow(0px 1px 2px rgba(0, 0, 0, 0.3));\n",
              "      fill: #FFFFFF;\n",
              "    }\n",
              "  </style>\n",
              "\n",
              "    <script>\n",
              "      const buttonEl =\n",
              "        document.querySelector('#df-a640353c-e062-4dfd-a84b-b06c1f672a04 button.colab-df-convert');\n",
              "      buttonEl.style.display =\n",
              "        google.colab.kernel.accessAllowed ? 'block' : 'none';\n",
              "\n",
              "      async function convertToInteractive(key) {\n",
              "        const element = document.querySelector('#df-a640353c-e062-4dfd-a84b-b06c1f672a04');\n",
              "        const dataTable =\n",
              "          await google.colab.kernel.invokeFunction('convertToInteractive',\n",
              "                                                    [key], {});\n",
              "        if (!dataTable) return;\n",
              "\n",
              "        const docLinkHtml = 'Like what you see? Visit the ' +\n",
              "          '<a target=\"_blank\" href=https://colab.research.google.com/notebooks/data_table.ipynb>data table notebook</a>'\n",
              "          + ' to learn more about interactive tables.';\n",
              "        element.innerHTML = '';\n",
              "        dataTable['output_type'] = 'display_data';\n",
              "        await google.colab.output.renderOutput(dataTable, element);\n",
              "        const docLink = document.createElement('div');\n",
              "        docLink.innerHTML = docLinkHtml;\n",
              "        element.appendChild(docLink);\n",
              "      }\n",
              "    </script>\n",
              "  </div>\n",
              "\n",
              "\n",
              "<div id=\"df-b56d87a0-c0fb-41db-9261-51746d8b4de5\">\n",
              "  <button class=\"colab-df-quickchart\" onclick=\"quickchart('df-b56d87a0-c0fb-41db-9261-51746d8b4de5')\"\n",
              "            title=\"Suggest charts\"\n",
              "            style=\"display:none;\">\n",
              "\n",
              "<svg xmlns=\"http://www.w3.org/2000/svg\" height=\"24px\"viewBox=\"0 0 24 24\"\n",
              "     width=\"24px\">\n",
              "    <g>\n",
              "        <path d=\"M19 3H5c-1.1 0-2 .9-2 2v14c0 1.1.9 2 2 2h14c1.1 0 2-.9 2-2V5c0-1.1-.9-2-2-2zM9 17H7v-7h2v7zm4 0h-2V7h2v10zm4 0h-2v-4h2v4z\"/>\n",
              "    </g>\n",
              "</svg>\n",
              "  </button>\n",
              "\n",
              "<style>\n",
              "  .colab-df-quickchart {\n",
              "      --bg-color: #E8F0FE;\n",
              "      --fill-color: #1967D2;\n",
              "      --hover-bg-color: #E2EBFA;\n",
              "      --hover-fill-color: #174EA6;\n",
              "      --disabled-fill-color: #AAA;\n",
              "      --disabled-bg-color: #DDD;\n",
              "  }\n",
              "\n",
              "  [theme=dark] .colab-df-quickchart {\n",
              "      --bg-color: #3B4455;\n",
              "      --fill-color: #D2E3FC;\n",
              "      --hover-bg-color: #434B5C;\n",
              "      --hover-fill-color: #FFFFFF;\n",
              "      --disabled-bg-color: #3B4455;\n",
              "      --disabled-fill-color: #666;\n",
              "  }\n",
              "\n",
              "  .colab-df-quickchart {\n",
              "    background-color: var(--bg-color);\n",
              "    border: none;\n",
              "    border-radius: 50%;\n",
              "    cursor: pointer;\n",
              "    display: none;\n",
              "    fill: var(--fill-color);\n",
              "    height: 32px;\n",
              "    padding: 0;\n",
              "    width: 32px;\n",
              "  }\n",
              "\n",
              "  .colab-df-quickchart:hover {\n",
              "    background-color: var(--hover-bg-color);\n",
              "    box-shadow: 0 1px 2px rgba(60, 64, 67, 0.3), 0 1px 3px 1px rgba(60, 64, 67, 0.15);\n",
              "    fill: var(--button-hover-fill-color);\n",
              "  }\n",
              "\n",
              "  .colab-df-quickchart-complete:disabled,\n",
              "  .colab-df-quickchart-complete:disabled:hover {\n",
              "    background-color: var(--disabled-bg-color);\n",
              "    fill: var(--disabled-fill-color);\n",
              "    box-shadow: none;\n",
              "  }\n",
              "\n",
              "  .colab-df-spinner {\n",
              "    border: 2px solid var(--fill-color);\n",
              "    border-color: transparent;\n",
              "    border-bottom-color: var(--fill-color);\n",
              "    animation:\n",
              "      spin 1s steps(1) infinite;\n",
              "  }\n",
              "\n",
              "  @keyframes spin {\n",
              "    0% {\n",
              "      border-color: transparent;\n",
              "      border-bottom-color: var(--fill-color);\n",
              "      border-left-color: var(--fill-color);\n",
              "    }\n",
              "    20% {\n",
              "      border-color: transparent;\n",
              "      border-left-color: var(--fill-color);\n",
              "      border-top-color: var(--fill-color);\n",
              "    }\n",
              "    30% {\n",
              "      border-color: transparent;\n",
              "      border-left-color: var(--fill-color);\n",
              "      border-top-color: var(--fill-color);\n",
              "      border-right-color: var(--fill-color);\n",
              "    }\n",
              "    40% {\n",
              "      border-color: transparent;\n",
              "      border-right-color: var(--fill-color);\n",
              "      border-top-color: var(--fill-color);\n",
              "    }\n",
              "    60% {\n",
              "      border-color: transparent;\n",
              "      border-right-color: var(--fill-color);\n",
              "    }\n",
              "    80% {\n",
              "      border-color: transparent;\n",
              "      border-right-color: var(--fill-color);\n",
              "      border-bottom-color: var(--fill-color);\n",
              "    }\n",
              "    90% {\n",
              "      border-color: transparent;\n",
              "      border-bottom-color: var(--fill-color);\n",
              "    }\n",
              "  }\n",
              "</style>\n",
              "\n",
              "  <script>\n",
              "    async function quickchart(key) {\n",
              "      const quickchartButtonEl =\n",
              "        document.querySelector('#' + key + ' button');\n",
              "      quickchartButtonEl.disabled = true;  // To prevent multiple clicks.\n",
              "      quickchartButtonEl.classList.add('colab-df-spinner');\n",
              "      try {\n",
              "        const charts = await google.colab.kernel.invokeFunction(\n",
              "            'suggestCharts', [key], {});\n",
              "      } catch (error) {\n",
              "        console.error('Error during call to suggestCharts:', error);\n",
              "      }\n",
              "      quickchartButtonEl.classList.remove('colab-df-spinner');\n",
              "      quickchartButtonEl.classList.add('colab-df-quickchart-complete');\n",
              "    }\n",
              "    (() => {\n",
              "      let quickchartButtonEl =\n",
              "        document.querySelector('#df-b56d87a0-c0fb-41db-9261-51746d8b4de5 button');\n",
              "      quickchartButtonEl.style.display =\n",
              "        google.colab.kernel.accessAllowed ? 'block' : 'none';\n",
              "    })();\n",
              "  </script>\n",
              "</div>\n",
              "\n",
              "    </div>\n",
              "  </div>\n"
            ],
            "application/vnd.google.colaboratory.intrinsic+json": {
              "type": "dataframe",
              "variable_name": "asteroid_data"
            }
          },
          "metadata": {},
          "execution_count": 56
        }
      ]
    },
    {
      "cell_type": "code",
      "source": [
        "asteroid_data.isnull().sum()"
      ],
      "metadata": {
        "colab": {
          "base_uri": "https://localhost:8080/"
        },
        "id": "FKqlrP4CL7di",
        "outputId": "0cb62be4-aef0-4732-ffb4-49a039b1962f"
      },
      "execution_count": 57,
      "outputs": [
        {
          "output_type": "execute_result",
          "data": {
            "text/plain": [
              "full_name          0\n",
              "neo                4\n",
              "pha            11255\n",
              "H               1230\n",
              "diameter     1172332\n",
              "albedo       1173460\n",
              "rot_per      1277860\n",
              "e                  0\n",
              "a                  0\n",
              "q                  0\n",
              "i                  0\n",
              "om                 0\n",
              "w                  0\n",
              "ma                 1\n",
              "ad                 4\n",
              "n                  0\n",
              "per                4\n",
              "moid_ld        11254\n",
              "class              0\n",
              "dtype: int64"
            ]
          },
          "metadata": {},
          "execution_count": 57
        }
      ]
    },
    {
      "cell_type": "code",
      "source": [
        "asteroid_data.info()"
      ],
      "metadata": {
        "colab": {
          "base_uri": "https://localhost:8080/"
        },
        "id": "rVxwzNVcMWjq",
        "outputId": "d1150220-7e49-4229-aba1-0cf50a289a66"
      },
      "execution_count": 58,
      "outputs": [
        {
          "output_type": "stream",
          "name": "stdout",
          "text": [
            "<class 'pandas.core.frame.DataFrame'>\n",
            "RangeIndex: 1311963 entries, 0 to 1311962\n",
            "Data columns (total 19 columns):\n",
            " #   Column     Non-Null Count    Dtype  \n",
            "---  ------     --------------    -----  \n",
            " 0   full_name  1311963 non-null  object \n",
            " 1   neo        1311959 non-null  object \n",
            " 2   pha        1300708 non-null  object \n",
            " 3   H          1310733 non-null  float64\n",
            " 4   diameter   139631 non-null   float64\n",
            " 5   albedo     138503 non-null   float64\n",
            " 6   rot_per    34103 non-null    float64\n",
            " 7   e          1311963 non-null  float64\n",
            " 8   a          1311963 non-null  float64\n",
            " 9   q          1311963 non-null  float64\n",
            " 10  i          1311963 non-null  float64\n",
            " 11  om         1311963 non-null  float64\n",
            " 12  w          1311963 non-null  float64\n",
            " 13  ma         1311962 non-null  float64\n",
            " 14  ad         1311959 non-null  float64\n",
            " 15  n          1311963 non-null  float64\n",
            " 16  per        1311959 non-null  float64\n",
            " 17  moid_ld    1300709 non-null  float64\n",
            " 18  class      1311963 non-null  object \n",
            "dtypes: float64(15), object(4)\n",
            "memory usage: 190.2+ MB\n"
          ]
        }
      ]
    },
    {
      "cell_type": "code",
      "source": [
        "dataframe=asteroid_data.drop(columns=['neo','full_name'])"
      ],
      "metadata": {
        "id": "-2DpMlqqMlCq"
      },
      "execution_count": 59,
      "outputs": []
    },
    {
      "cell_type": "code",
      "source": [
        "dataframe['diameter'].fillna(dataframe.groupby('class')['diameter'].transform('median'),inplace=True)\n",
        "dataframe['H'].fillna(dataframe.groupby('class')['H'].transform('median'),inplace=True)\n",
        "dataframe['albedo'].fillna(dataframe.groupby('class')['albedo'].transform('median'),inplace=True)\n",
        "dataframe['ma'].fillna(dataframe.groupby('class')['ma'].transform('median'),inplace=True)\n",
        "dataframe['ad'].fillna(dataframe.groupby('class')['ad'].transform('median'),inplace=True)\n",
        "dataframe['per'].fillna(dataframe.groupby('class')['per'].transform('median'),inplace=True)\n",
        "dataframe['moid_ld'].fillna(dataframe.groupby('class')['moid_ld'].transform('median'),inplace=True)\n",
        "dataframe['rot_per'].fillna(dataframe.groupby('class')['rot_per'].transform('median'),inplace=True)"
      ],
      "metadata": {
        "id": "p9ltsXAXM56A"
      },
      "execution_count": 60,
      "outputs": []
    },
    {
      "cell_type": "code",
      "source": [
        "dataframe[['diameter','albedo','ad','per']]=dataframe[['diameter','albedo','ad','per']].fillna(value=dataframe[['diameter','albedo','ad','per']].median())"
      ],
      "metadata": {
        "id": "N80avfNdNBtc"
      },
      "execution_count": 61,
      "outputs": []
    },
    {
      "cell_type": "code",
      "source": [
        "dataframe.isnull().sum()"
      ],
      "metadata": {
        "colab": {
          "base_uri": "https://localhost:8080/"
        },
        "id": "HG5-scQ8NFSy",
        "outputId": "a46671a6-683f-4421-94f2-b60633e859d8"
      },
      "execution_count": 62,
      "outputs": [
        {
          "output_type": "execute_result",
          "data": {
            "text/plain": [
              "pha         11255\n",
              "H               0\n",
              "diameter        0\n",
              "albedo          0\n",
              "rot_per         0\n",
              "e               0\n",
              "a               0\n",
              "q               0\n",
              "i               0\n",
              "om              0\n",
              "w               0\n",
              "ma              0\n",
              "ad              0\n",
              "n               0\n",
              "per             0\n",
              "moid_ld         0\n",
              "class           0\n",
              "dtype: int64"
            ]
          },
          "metadata": {},
          "execution_count": 62
        }
      ]
    },
    {
      "cell_type": "code",
      "source": [
        "dataframe = dataframe.drop(columns=['class','ad','om','a','ma','q','rot_per','w','albedo','n','pha'])"
      ],
      "metadata": {
        "id": "TJQBlN_WNKzW"
      },
      "execution_count": 63,
      "outputs": []
    },
    {
      "cell_type": "code",
      "source": [
        "dataframe.isnull().sum()"
      ],
      "metadata": {
        "colab": {
          "base_uri": "https://localhost:8080/"
        },
        "id": "-87MMyqFORpn",
        "outputId": "55a04ce8-017d-4c33-ceef-69b15ce7d7b5"
      },
      "execution_count": 64,
      "outputs": [
        {
          "output_type": "execute_result",
          "data": {
            "text/plain": [
              "H           0\n",
              "diameter    0\n",
              "e           0\n",
              "i           0\n",
              "per         0\n",
              "moid_ld     0\n",
              "dtype: int64"
            ]
          },
          "metadata": {},
          "execution_count": 64
        }
      ]
    },
    {
      "cell_type": "code",
      "source": [
        "import pandas as pd\n",
        "from statsmodels.stats.outliers_influence import variance_inflation_factor\n",
        "\n",
        "# Assuming 'dataframe' is your DataFrame\n",
        "# Drop any non-numeric columns or handle them appropriately for VIF calculation\n",
        "numeric_df = dataframe.select_dtypes(include=['float64', 'int64'])\n",
        "\n",
        "# Calculate VIF for each feature\n",
        "vif_data = pd.DataFrame()\n",
        "vif_data[\"Feature\"] = numeric_df.columns\n",
        "vif_data[\"VIF\"] = [variance_inflation_factor(numeric_df.values, i) for i in range(numeric_df.shape[1])]\n",
        "\n",
        "# Print the VIF dataframe\n",
        "print(vif_data)\n"
      ],
      "metadata": {
        "colab": {
          "base_uri": "https://localhost:8080/"
        },
        "id": "OowlDQgUPU1w",
        "outputId": "69541f01-7fde-4063-d1d0-603c1f706e11"
      },
      "execution_count": 65,
      "outputs": [
        {
          "output_type": "stream",
          "name": "stdout",
          "text": [
            "    Feature       VIF\n",
            "0         H  6.155004\n",
            "1  diameter  3.169350\n",
            "2         e  4.338338\n",
            "3         i  2.911504\n",
            "4       per  1.001251\n",
            "5   moid_ld  2.369248\n"
          ]
        }
      ]
    }
  ]
}